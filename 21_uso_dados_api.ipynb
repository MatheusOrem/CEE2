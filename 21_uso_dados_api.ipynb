{
  "nbformat": 4,
  "nbformat_minor": 0,
  "metadata": {
    "colab": {
      "provenance": [],
      "toc_visible": true,
      "include_colab_link": true
    },
    "kernelspec": {
      "name": "python3",
      "display_name": "Python 3"
    },
    "language_info": {
      "name": "python"
    }
  },
  "cells": [
    {
      "cell_type": "markdown",
      "metadata": {
        "id": "view-in-github",
        "colab_type": "text"
      },
      "source": [
        "<a href=\"https://colab.research.google.com/github/MatheusOrem/CEE2/blob/main/21_uso_dados_api.ipynb\" target=\"_parent\"><img src=\"https://colab.research.google.com/assets/colab-badge.svg\" alt=\"Open In Colab\"/></a>"
      ]
    },
    {
      "cell_type": "markdown",
      "source": [
        "---\n",
        "# Uso de dados de APIs\n",
        "\n",
        "API é a sigla para *Application Programming Interface* (em português, Interface de Programação de Aplicações).\n",
        "Trata-se de um conjunto de definições e protocolos que permitem que diferentes sistemas ou softwares se comuniquem entre si, de forma padronizada, sem que um precise conhecer os detalhes internos do outro.\n",
        "\n",
        "## Bibliotecas\n",
        "\n",
        "O acesso a dados de API's pode ser feito utilizando a biblioteca `requests`, que deve ser instalada, caso ainda não esteja:\n",
        "```python\n",
        "pip install requests\n",
        "```\n",
        "\n",
        "\n",
        "\n",
        "\n",
        "\n"
      ],
      "metadata": {
        "id": "wU2538PMLpDp"
      }
    },
    {
      "cell_type": "markdown",
      "source": [
        "\n",
        "## Formato de dados\n",
        "\n",
        "A maior parte das API's modernas fornecem dados em formato JSON, sendo que no passado o formato mais utilizado era o XML (*Extensible Markup Language*), sendo este segundo um sistema mais pesado que o JSON.\n",
        "\n",
        "Algumas API's também podem fornecer dados em formato CSV (*Comma-Separated Values*), especialmente para dados tabulares.\n",
        "\n",
        "\n",
        "### JSON\n",
        "\n",
        "O formato JSON (*JavaScript Object Notation*) é uma estrutura de dados leve e baseada em texto, usada para a troca de informações entre sistemas. Ele organiza os dados em pares de chave-valor que são agrupados em objetos ({}) ou arrays ([]). As chaves devem ser strings delimitadas por aspas duplas, enquanto os valores podem ser números, strings, booleanos, arrays, objetos ou `null`. Os arrays são listas ordenadas de valores, enquanto os objetos são coleções de pares de chave-valor não ordenadas.\n",
        "\n",
        "***Exemplo***\n",
        "\n",
        "No exemplo abaixo, o objeto principal contém um campo `\"dados\"`, que é uma lista de objetos.\n",
        "\n",
        "Cada objeto dentro da lista representa um município com os seguintes atributos:\n",
        "- \"municipio\": Nome do município.\n",
        "- \"estado\": Sigla do estado ao qual o município pertence.\n",
        "- \"populacao\": População total do município.\n",
        "- \"area_km2\": Área territorial em quilômetros quadrados.\n",
        "- \"indicadores\": Um objeto contendo:\n",
        "  - \"idh\": Índice de Desenvolvimento Humano (IDH).\n",
        "  - \"renda_per_capita\": Renda per capita média.\n",
        "  - \"taxa_alfabetizacao\": Taxa de alfabetização em percentual.\n",
        "\n",
        "```python\n",
        "{\n",
        "  \"dados\": [\n",
        "    {\n",
        "      \"municipio\": \"São Paulo\",\n",
        "      \"estado\": \"SP\",\n",
        "      \"populacao\": 12396372,\n",
        "      \"area_km2\": 1521.11,\n",
        "      \"indicadores\": {\n",
        "        \"idh\": 0.805,\n",
        "        \"renda_per_capita\": 3872.0,\n",
        "        \"taxa_alfabetizacao\": 97.5\n",
        "      }\n",
        "    },\n",
        "    {\n",
        "      \"municipio\": \"Rio de Janeiro\",\n",
        "      \"estado\": \"RJ\",\n",
        "      \"populacao\": 6775561,\n",
        "      \"area_km2\": 1182.30,\n",
        "      \"indicadores\": {\n",
        "        \"idh\": 0.799,\n",
        "        \"renda_per_capita\": 3221.5,\n",
        "        \"taxa_alfabetizacao\": 96.2\n",
        "      }\n",
        "    },\n",
        "    {\n",
        "      \"municipio\": \"Belo Horizonte\",\n",
        "      \"estado\": \"MG\",\n",
        "      \"populacao\": 2530701,\n",
        "      \"area_km2\": 330.954,\n",
        "      \"indicadores\": {\n",
        "        \"idh\": 0.810,\n",
        "        \"renda_per_capita\": 2765.9,\n",
        "        \"taxa_alfabetizacao\": 97.8\n",
        "      }\n",
        "    }\n",
        "  ]\n",
        "}\n",
        "```\n",
        "\n",
        "### Como Funciona\n",
        "\n",
        "Quando você faz uma requisição HTTP com `requests.get()`, o conteúdo da resposta geralmente está no formato de texto bruto.\n",
        "\n",
        "O método `.json()` interpreta esse texto como JSON e o converte automaticamente em objetos nativos do Python.\n",
        "- Objetos JSON se tornam dicionários em Python.\n",
        "- Arrays JSON se tornam listas em Python.\n",
        "- Valores JSON como números, strings, booleans e null são convertidos em seus equivalentes no Python.\n",
        "\n",
        "> Dica: A biblioteca `pprint` possui a função `pprint` que permite apresenta o resultado dessa conversão de um modo organizado."
      ],
      "metadata": {
        "id": "e2dOYaJYbGjt"
      }
    },
    {
      "cell_type": "markdown",
      "source": [
        "---\n",
        "## API do IBGE\n",
        "\n",
        "A API do IBGE fornece dados sobre populações, territórios, economia, e muito mais.\n",
        "\n",
        "A documentação da API do IBGE está disponível em: https://servicodados.ibge.gov.br/api/docs. Nesta página, podemos obter os endereços URL's para fazer requisições de dados do IBGE utilizando o Python.\n",
        "\n",
        "> ***QUERY BUILDER:*** Dentro da página, escolha uma das divisões da API disponíveis, então você pode utilizar o menu `QUERY BUILDER` para personalizar o link conforme seu interesse.\n",
        "\n",
        "\n",
        "> Exemplo: Vamos usar a API para acessar dados de municípios brasileiros.\n"
      ],
      "metadata": {
        "id": "zJ3T-H-EdJRm"
      }
    },
    {
      "cell_type": "markdown",
      "source": [
        "***Exemplo 1:*** Listar munícios por UF\n",
        "\n",
        "Aqui está um exemplo de como obter uma lista de municípios de um estado específico.\n",
        "\n",
        "Para obter a URL para a requisição acessamos na página:\n",
        ">  \"Localidades\" -> Campo MUNICIPIOS, menu \"Municípios por UF\".\n",
        "\n",
        "> Os códigos de estados e municípios estão disponíveis em https://www.ibge.gov.br/explica/codigos-dos-municipios.php."
      ],
      "metadata": {
        "id": "yhhpsRureChw"
      }
    },
    {
      "cell_type": "code",
      "source": [
        "import requests\n",
        "\n",
        "# URL para obter municípios de um estado\n",
        "estado = 35  # Código do estado (São Paulo = 35)\n",
        "url = f\"https://servicodados.ibge.gov.br/api/v1/localidades/estados/{estado}/municipios\"\n",
        "\n",
        "# Fazendo a requisição\n",
        "response = requests.get(url)\n",
        "\n",
        "print( \"type(response):\", type(response) )"
      ],
      "metadata": {
        "id": "JZESzpAUdkIl"
      },
      "execution_count": null,
      "outputs": []
    },
    {
      "cell_type": "code",
      "source": [
        "# Checando o status da requisição e interpretando o JSON\n",
        "if response.status_code == 200:\n",
        "\n",
        "    municipios = response.json() ## interpretando a saída como JSON\n",
        "\n",
        "    print( \"\\n\\nTipo de dados:\", type(municipios) )\n",
        "\n",
        "    print( \"\\n\\nPrimeiros 3 elementos:\", type(municipios) )\n",
        "    print( municipios[:3] )\n",
        "\n",
        "    print( \"\\n\\nPrimeiros 3 elementos (pprint):\")\n",
        "    import pprint\n",
        "    pprint.pprint(municipios[:3])\n",
        "\n",
        "    print( \"\\n\\nAcessando atributos de cada elemento:\" )\n",
        "\n",
        "    print(f\"\\n Total de municípios: {len(municipios)}\")\n",
        "\n",
        "    print(\"\\n Nome dos 5 primeiros municípios:\")\n",
        "\n",
        "    for municipio in municipios[:5]:  # Mostra os primeiros 5 municípios\n",
        "        print(\"  \", municipio['nome'])\n",
        "else:\n",
        "    print(\"Erro ao acessar a API do IBGE\")\n"
      ],
      "metadata": {
        "id": "9mn7b9ZaA-4d",
        "colab": {
          "base_uri": "https://localhost:8080/",
          "height": 1000
        },
        "outputId": "82a13845-b4d3-4d32-ad5d-66930ee50987"
      },
      "execution_count": null,
      "outputs": [
        {
          "output_type": "stream",
          "name": "stdout",
          "text": [
            "\n",
            "\n",
            "Tipo de dados: <class 'list'>\n",
            "\n",
            "\n",
            "Primeiros 3 elementos: <class 'list'>\n",
            "[{'id': '9324', 'variavel': 'População residente estimada', 'unidade': 'Pessoas', 'resultados': [{'classificacoes': [], 'series': [{'localidade': {'id': '1', 'nivel': {'id': 'N1', 'nome': 'Brasil'}, 'nome': 'Brasil'}, 'serie': {'2001': '172385826', '2002': '174632960', '2003': '176871437', '2004': '181569056', '2005': '184184264', '2006': '186770562', '2008': '189605006', '2009': '191480630', '2011': '192379287', '2012': '193904015', '2013': '201032714', '2014': '202768562', '2015': '204450049', '2016': '206081432', '2017': '207660929', '2018': '208494900', '2019': '210147125', '2020': '211755692', '2021': '213317639', '2024': '212583750'}}]}]}]\n",
            "\n",
            "\n",
            "Primeiros 3 elementos (pprint):\n",
            "[{'id': '9324',\n",
            "  'resultados': [{'classificacoes': [],\n",
            "                  'series': [{'localidade': {'id': '1',\n",
            "                                             'nivel': {'id': 'N1',\n",
            "                                                       'nome': 'Brasil'},\n",
            "                                             'nome': 'Brasil'},\n",
            "                              'serie': {'2001': '172385826',\n",
            "                                        '2002': '174632960',\n",
            "                                        '2003': '176871437',\n",
            "                                        '2004': '181569056',\n",
            "                                        '2005': '184184264',\n",
            "                                        '2006': '186770562',\n",
            "                                        '2008': '189605006',\n",
            "                                        '2009': '191480630',\n",
            "                                        '2011': '192379287',\n",
            "                                        '2012': '193904015',\n",
            "                                        '2013': '201032714',\n",
            "                                        '2014': '202768562',\n",
            "                                        '2015': '204450049',\n",
            "                                        '2016': '206081432',\n",
            "                                        '2017': '207660929',\n",
            "                                        '2018': '208494900',\n",
            "                                        '2019': '210147125',\n",
            "                                        '2020': '211755692',\n",
            "                                        '2021': '213317639',\n",
            "                                        '2024': '212583750'}}]}],\n",
            "  'unidade': 'Pessoas',\n",
            "  'variavel': 'População residente estimada'}]\n",
            "\n",
            "\n",
            "Acessando atributos de cada elemento:\n",
            "\n",
            " Total de municípios: 1\n",
            "\n",
            " Nome dos 5 primeiros municípios:\n"
          ]
        },
        {
          "output_type": "error",
          "ename": "KeyError",
          "evalue": "'nome'",
          "traceback": [
            "\u001b[0;31m---------------------------------------------------------------------------\u001b[0m",
            "\u001b[0;31mKeyError\u001b[0m                                  Traceback (most recent call last)",
            "\u001b[0;32m<ipython-input-4-3635e10c0794>\u001b[0m in \u001b[0;36m<cell line: 0>\u001b[0;34m()\u001b[0m\n\u001b[1;32m     20\u001b[0m \u001b[0;34m\u001b[0m\u001b[0m\n\u001b[1;32m     21\u001b[0m     \u001b[0;32mfor\u001b[0m \u001b[0mmunicipio\u001b[0m \u001b[0;32min\u001b[0m \u001b[0mmunicipios\u001b[0m\u001b[0;34m[\u001b[0m\u001b[0;34m:\u001b[0m\u001b[0;36m5\u001b[0m\u001b[0;34m]\u001b[0m\u001b[0;34m:\u001b[0m  \u001b[0;31m# Mostra os primeiros 5 municípios\u001b[0m\u001b[0;34m\u001b[0m\u001b[0;34m\u001b[0m\u001b[0m\n\u001b[0;32m---> 22\u001b[0;31m         \u001b[0mprint\u001b[0m\u001b[0;34m(\u001b[0m\u001b[0;34m\"  \"\u001b[0m\u001b[0;34m,\u001b[0m \u001b[0mmunicipio\u001b[0m\u001b[0;34m[\u001b[0m\u001b[0;34m'nome'\u001b[0m\u001b[0;34m]\u001b[0m\u001b[0;34m)\u001b[0m\u001b[0;34m\u001b[0m\u001b[0;34m\u001b[0m\u001b[0m\n\u001b[0m\u001b[1;32m     23\u001b[0m \u001b[0;32melse\u001b[0m\u001b[0;34m:\u001b[0m\u001b[0;34m\u001b[0m\u001b[0;34m\u001b[0m\u001b[0m\n\u001b[1;32m     24\u001b[0m     \u001b[0mprint\u001b[0m\u001b[0;34m(\u001b[0m\u001b[0;34m\"Erro ao acessar a API do IBGE\"\u001b[0m\u001b[0;34m)\u001b[0m\u001b[0;34m\u001b[0m\u001b[0;34m\u001b[0m\u001b[0m\n",
            "\u001b[0;31mKeyError\u001b[0m: 'nome'"
          ]
        }
      ]
    },
    {
      "cell_type": "code",
      "source": [
        "# A biblioteca pandas pode ser utilizada para tabelar como um dataframe\n",
        "##  Em Jupyter e Colab pode-se utilizar o comando display para ter uma apresentação\n",
        "##  mais organizada que a função print\n",
        "import pandas as pd\n",
        "\n",
        "df = pd.DataFrame(municipios)\n",
        "\n",
        "display(df)"
      ],
      "metadata": {
        "id": "4m9dxaNMa1tH"
      },
      "execution_count": null,
      "outputs": []
    },
    {
      "cell_type": "markdown",
      "source": [
        "***Exemplo 2:*** Estimativa Populacional\n",
        "\n",
        "O link abaixo foi construído utilizando a divisão \"AGREGADOS\" e o seguinte sequência para o \"Query Builder\":\n",
        "\n",
        "1. Pesquisa: Estimativas de População\n",
        "2. Períodos: Selecionar todos\n",
        "3. Nível geográfico: N1 - Brasil\n",
        "\n",
        "https://servicodados.ibge.gov.br/api/v3/agregados/6579/periodos/2001|2002|2003|2004|2005|2006|2008|2009|2011|2012|2013|2014|2015|2016|2017|2018|2019|2020|2021|2024/variaveis/9324?localidades=N1[all]\n"
      ],
      "metadata": {
        "id": "dKqpKZSNJoKF"
      }
    },
    {
      "cell_type": "code",
      "source": [
        "import requests\n",
        "\n",
        "url = \"https://servicodados.ibge.gov.br/api/v3/agregados/6579/periodos/2001|2002|2003|2004|2005|2006|2008|2009|2011|2012|2013|2014|2015|2016|2017|2018|2019|2020|2021|2024/variaveis/9324?localidades=N1[all]\"\n",
        "\n",
        "# Fazendo a requisição\n",
        "response = requests.get(url)\n",
        "\n",
        "print( \"type(response):\", type(response) )\n",
        "\n",
        "if response.status_code == 200:\n",
        "  dados = response.json() ## interpretando a saída como JSON\n",
        "\n",
        "  print( \"\\n\\nTipo de dados:\", type(dados) )\n",
        "\n",
        "  ## Exibe uma descrição organizada da estrutura dos dados\n",
        "  import pprint\n",
        "  pprint.pprint(dados)\n",
        "\n",
        "else:\n",
        "  print(\"Erro ao acessar a API do IBGE\")\n"
      ],
      "metadata": {
        "id": "qzQRvZkrK89S",
        "colab": {
          "base_uri": "https://localhost:8080/"
        },
        "outputId": "0f1432e6-dd1a-4ea5-864d-02c967cbb170"
      },
      "execution_count": null,
      "outputs": [
        {
          "output_type": "stream",
          "name": "stdout",
          "text": [
            "type(response): <class 'requests.models.Response'>\n",
            "\n",
            "\n",
            "Tipo de dados: <class 'list'>\n",
            "[{'id': '9324',\n",
            "  'resultados': [{'classificacoes': [],\n",
            "                  'series': [{'localidade': {'id': '1',\n",
            "                                             'nivel': {'id': 'N1',\n",
            "                                                       'nome': 'Brasil'},\n",
            "                                             'nome': 'Brasil'},\n",
            "                              'serie': {'2001': '172385826',\n",
            "                                        '2002': '174632960',\n",
            "                                        '2003': '176871437',\n",
            "                                        '2004': '181569056',\n",
            "                                        '2005': '184184264',\n",
            "                                        '2006': '186770562',\n",
            "                                        '2008': '189605006',\n",
            "                                        '2009': '191480630',\n",
            "                                        '2011': '192379287',\n",
            "                                        '2012': '193904015',\n",
            "                                        '2013': '201032714',\n",
            "                                        '2014': '202768562',\n",
            "                                        '2015': '204450049',\n",
            "                                        '2016': '206081432',\n",
            "                                        '2017': '207660929',\n",
            "                                        '2018': '208494900',\n",
            "                                        '2019': '210147125',\n",
            "                                        '2020': '211755692',\n",
            "                                        '2021': '213317639',\n",
            "                                        '2024': '212583750'}}]}],\n",
            "  'unidade': 'Pessoas',\n",
            "  'variavel': 'População residente estimada'}]\n"
          ]
        }
      ]
    },
    {
      "cell_type": "code",
      "source": [
        "# Extraindo a série temporal\n",
        "### Nessa etapa voce pode ir printando a estrutura e selecionando o elemento de interesse\n",
        "\n",
        "pprint.pprint(dados[0]['resultados'][0]['series'][0]['serie'])\n",
        "\n",
        "serie = dados[0]['resultados'][0]['series'][0]['serie']"
      ],
      "metadata": {
        "id": "E2Zgr4HTV3my"
      },
      "execution_count": null,
      "outputs": []
    },
    {
      "cell_type": "code",
      "source": [
        "import matplotlib.pyplot as plt\n",
        "import pandas as pd\n",
        "\n",
        "# Convertendo para um DataFrame do pandas\n",
        "df = pd.DataFrame(list(serie.items()), columns=['Year', 'Value'])\n",
        "df['Year'] = pd.to_datetime(df['Year'], format='%Y')  # Convertendo anos para datetime\n",
        "df['Value'] = pd.to_numeric(df['Value'])  # Convertendo valores para numérico\n",
        "\n",
        "# Criando o gráfico\n",
        "plt.figure(figsize=(5, 4))\n",
        "plt.plot(df['Year'], df['Value'], marker='o', linestyle='-', color='b', label='Estimativa Populacional')\n",
        "plt.title('Estimativa Populacional')\n",
        "plt.xlabel('Ano')\n",
        "plt.ylabel('Valor')\n",
        "plt.grid(True, linestyle='--', alpha=0.7)\n",
        "#plt.legend()\n",
        "plt.tight_layout()\n",
        "plt.show()"
      ],
      "metadata": {
        "id": "iWZJl7zfLJQh"
      },
      "execution_count": null,
      "outputs": []
    },
    {
      "cell_type": "markdown",
      "source": [
        "### Exercício 1\n",
        "\n",
        "Crie um código que baixe e apresente informações de \"Localidade\" do Distrito Federal utilizando a API do IBGE.\n"
      ],
      "metadata": {
        "id": "n6kJg5-GE-BH"
      }
    },
    {
      "cell_type": "code",
      "source": [
        "import requests\n",
        "\n",
        "url = \"https://servicodados.ibge.gov.br/api/v1/localidades/estados/53/municipios\"\n",
        "\n",
        "try:\n",
        "    response = requests.get(url)\n",
        "    response.raise_for_status()\n",
        "\n",
        "    municipios = response.json()\n",
        "\n",
        "    print(f\"Total de municípios no DF: {len(municipios)}\\n\")\n",
        "\n",
        "    print(\"Nome dos municípios do Distrito Federal:\")\n",
        "    for i, municipio in enumerate(municipios, start=1):\n",
        "        print(f\"{i}. {municipio['nome']}\")\n",
        "\n",
        "except requests.RequestException as e:\n",
        "    print(f\"Erro ao acessar a API do IBGE: {e}\")\n"
      ],
      "metadata": {
        "id": "JrDCgy7XMVJy",
        "outputId": "4ee9dcc0-233d-4ad7-dff0-470e84c95fc4",
        "colab": {
          "base_uri": "https://localhost:8080/"
        }
      },
      "execution_count": 1,
      "outputs": [
        {
          "output_type": "stream",
          "name": "stdout",
          "text": [
            "Total de municípios no DF: 1\n",
            "\n",
            "Nome dos municípios do Distrito Federal:\n",
            "1. Brasília\n"
          ]
        }
      ]
    },
    {
      "cell_type": "markdown",
      "source": [
        "---\n",
        "## API do Banco Central\n",
        "\n",
        "O Banco Central do Brasil fornece uma API chamada \"Serviço de Dados Abertos\" para acessar informações financeiras, como taxas de câmbio e boletins econômicos.\n",
        "\n",
        "A documentação da API do Banco Central está disponível em:\n",
        "https://dadosabertos.bcb.gov.br"
      ],
      "metadata": {
        "id": "4dx8NMfmXNtD"
      }
    },
    {
      "cell_type": "markdown",
      "source": [
        "***Exemplo 1:*** Cotação do dólar\n",
        "\n",
        "\n",
        "Para obter o histórico da cotação do dólar, vamos executar os seguintes passos:\n",
        "\n",
        "1. Pesquisar \"Cotação do dólar\" na página da documentação https://dadosabertos.bcb.gov.br\n",
        "\n",
        "2. Clique em `Dólar comercial (venda e compra) - cotações diárias`.\n",
        "\n",
        "3. No canto superior direito, clique em `Ponto de Acesso à API`.\n",
        "\n",
        "4. No tópico `Cotação do Dólar por período` clique em `Explorar`.\n",
        "\n",
        "5. Preencha as informações sobre o intervalo de datas no formulário, utilize o forma MM-DD-AAAA.\n",
        "\n",
        "  * Como exemplo foi preenchido, `Data inicial = 01-01-2025` e `Data final = 01-20-2024`.\n",
        "\n",
        "5. Copie a URL que foi gerada.\n",
        "\n",
        "  * No exemplo, temos:\n",
        "\n",
        "```http\n",
        "  https://olinda.bcb.gov.br/olinda/servico/PTAX/versao/v1/odata/CotacaoDolarPeriodo(dataInicial=@dataInicial,dataFinalCotacao=@dataFinalCotacao)?@dataInicial='01-01-2025'&@dataFinalCotacao='01-20-2025'&$top=100&$format=json\n",
        "```\n",
        "\n",
        "> Note que esta URL é utilizada no código abaixo para baixar a série histórica da cotação do dólar.\n"
      ],
      "metadata": {
        "id": "rrd6Tl1tYWML"
      }
    },
    {
      "cell_type": "code",
      "source": [
        "import requests\n",
        "from datetime import datetime\n",
        "\n",
        "# URL para taxas de câmbio\n",
        "data_inicial = \"01-01-2025\" ## MM-DD-AAAA\n",
        "data_final = \"01-20-2025\"   ## MM-DD-AAAA\n",
        "url = f\"https://olinda.bcb.gov.br/olinda/servico/PTAX/versao/v1/odata/CotacaoDolarPeriodo(dataInicial=@dataInicial,dataFinalCotacao=@dataFinal)?@dataInicial='{data_inicial}'&@dataFinal='{data_final}'&$format=json\"\n",
        "\n",
        "# Fazendo a requisição\n",
        "response = requests.get(url)\n",
        "\n",
        "# Checando o status\n",
        "if response.status_code == 200:\n",
        "\n",
        "    dados = response.json()\n",
        "\n",
        "    import pprint\n",
        "    pprint.pprint(dados)\n",
        "\n",
        "    print(\"\\n\\nPreços de compra:\")\n",
        "    dados_cambio = dados['value']\n",
        "    for dia in dados_cambio:\n",
        "        print(f\"Data: {dia['dataHoraCotacao']}, Valor: {dia['cotacaoCompra']}\")\n",
        "else:\n",
        "    print(\"Erro ao acessar a API do Banco Central\")"
      ],
      "metadata": {
        "id": "wXwYLnKyY0ys"
      },
      "execution_count": null,
      "outputs": []
    },
    {
      "cell_type": "markdown",
      "source": [
        "Podemos desempacotar as informações para um DataFrame do Pandas.\n",
        "\n",
        "Para isto, bastar selecionar selecionar o elemento 'value' do JSON. Veja o exemplo no código abaixo."
      ],
      "metadata": {
        "id": "3PLx3JZket_9"
      }
    },
    {
      "cell_type": "code",
      "source": [
        "# Para tabular as informações podemos utilizar Pandas\n",
        "import pandas as pd\n",
        "\n",
        "df = pd.DataFrame( dados['value'] )\n",
        "print( df )"
      ],
      "metadata": {
        "id": "Djn37fcxd7HR"
      },
      "execution_count": null,
      "outputs": []
    },
    {
      "cell_type": "code",
      "source": [
        "# Criando o gráfico\n",
        "import matplotlib.pyplot as plt\n",
        "\n",
        "  ## Convertendo a coluna 'dataHoraCotacao' para datetime\n",
        "df['dataHoraCotacao'] = pd.to_datetime(df['dataHoraCotacao'])\n",
        "\n",
        "  ## Remove informações de horário\n",
        "df['dataHoraCotacao'] = df['dataHoraCotacao'].dt.date\n",
        "\n",
        "plt.figure(figsize=(5, 4))\n",
        "plt.plot(df['dataHoraCotacao'], df[\"cotacaoCompra\"])\n",
        "plt.title('Cotação Dólar')\n",
        "plt.grid(True, linestyle='--', alpha=0.6)\n",
        "plt.xticks(rotation=45)  # Rotaciona os rótulos para evitar sobreposição\n",
        "plt.tight_layout()\n",
        "plt.show()"
      ],
      "metadata": {
        "id": "afeWEgwxlOYy"
      },
      "execution_count": null,
      "outputs": []
    },
    {
      "cell_type": "markdown",
      "source": [
        "### Exercício 2\n",
        "\n",
        "Crie um código que baixe e apresente informações da série temporal diária da \"Taxa de juros - Selic\" entre 01/01/2010 até 20/01/2025.\n",
        "\n",
        "> Link para a documentação da API: https://dadosabertos.bcb.gov.br/dataset/11-taxa-de-juros---selic/resource/b73edc07-bbac-430c-a2cb-b1639e605fa8\n",
        "\n",
        "\n"
      ],
      "metadata": {
        "id": "yZsegu97gjVs"
      }
    },
    {
      "cell_type": "code",
      "source": [
        "import requests\n",
        "import pandas as pd\n",
        "import matplotlib.pyplot as plt\n",
        "\n",
        "data_inicial = \"01/01/2016\"\n",
        "data_final = \"20/01/2025\"\n",
        "\n",
        "\n",
        "url = f\"https://api.bcb.gov.br/dados/serie/bcdata.sgs.11/dados?formato=json&dataInicial={data_inicial}&dataFinal={data_final}\"\n",
        "\n",
        "response = requests.get(url)\n",
        "\n",
        "if response.status_code == 200:\n",
        "    dados = response.json()\n",
        "    df = pd.DataFrame(dados)\n",
        "\n",
        "\n",
        "    df['data'] = pd.to_datetime(df['data'], dayfirst=True)\n",
        "    df['valor'] = df['valor'].str.replace(',', '.').astype(float)\n",
        "\n",
        "\n",
        "    print(df.head())\n",
        "\n",
        "    #gráfico\n",
        "    plt.figure(figsize=(10, 5))\n",
        "    plt.plot(df['data'], df['valor'], color='blue', linewidth=1.5)\n",
        "    plt.title(\"Taxa Selic Diária (2016–2025)\", fontsize=14)\n",
        "    plt.xlabel(\"Data\", fontsize=12)\n",
        "    plt.ylabel(\"Taxa (%)\", fontsize=12)\n",
        "    plt.grid(True, linestyle='--', alpha=0.5)\n",
        "    plt.tight_layout()\n",
        "    plt.show()\n",
        "else:\n",
        "    print(\"Erro ao acessar a API do Banco Central.\")\n",
        "\n"
      ],
      "metadata": {
        "id": "4SUl70xONJpw",
        "outputId": "b28b4e00-93bc-49b9-d79c-92e1a7e5bd92",
        "colab": {
          "base_uri": "https://localhost:8080/",
          "height": 615
        }
      },
      "execution_count": 3,
      "outputs": [
        {
          "output_type": "stream",
          "name": "stdout",
          "text": [
            "        data     valor\n",
            "0 2016-01-04  0.052531\n",
            "1 2016-01-05  0.052531\n",
            "2 2016-01-06  0.052531\n",
            "3 2016-01-07  0.052531\n",
            "4 2016-01-08  0.052531\n"
          ]
        },
        {
          "output_type": "display_data",
          "data": {
            "text/plain": [
              "<Figure size 1000x500 with 1 Axes>"
            ],
            "image/png": "[encoded data removed]"
          },
          "metadata": {}
        }
      ]
    }
  ]
}